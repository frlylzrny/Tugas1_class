{
  "nbformat": 4,
  "nbformat_minor": 0,
  "metadata": {
    "colab": {
      "provenance": [],
      "authorship_tag": "ABX9TyOM9EMISvpJlVQI4WQelYxh",
      "include_colab_link": true
    },
    "kernelspec": {
      "name": "python3",
      "display_name": "Python 3"
    },
    "language_info": {
      "name": "python"
    }
  },
  "cells": [
    {
      "cell_type": "markdown",
      "metadata": {
        "id": "view-in-github",
        "colab_type": "text"
      },
      "source": [
        "<a href=\"https://colab.research.google.com/github/frlylzrny/Tugas1_class/blob/main/class3bunga.ipynb\" target=\"_parent\"><img src=\"https://colab.research.google.com/assets/colab-badge.svg\" alt=\"Open In Colab\"/></a>"
      ]
    },
    {
      "cell_type": "code",
      "source": [
        "#mendefinisikan kelas bunga\n",
        "class Bunga:\n",
        "    def __init__(self):\n",
        "        self.nama = \"\"\n",
        "        self.warna = \"\"\n",
        "        self.harga = 0.0\n",
        "\n",
        "    def set_bunga(self, nama, warna, harga):\n",
        "        self.nama = nama\n",
        "        self.warna = warna\n",
        "        self.harga = harga\n",
        "\n",
        "    def tampilkan_info(self):\n",
        "        print(\"\\nInformasi Bunga:\")\n",
        "        print(f\"Nama  : {self.nama}\")\n",
        "        print(f\"Warna : {self.warna}\")\n",
        "        print(f\"Harga : Rp{self.harga:,}\")\n",
        "\n",
        "def main():\n",
        "    bunga1 = Bunga()\n",
        "    bunga1.set_bunga(\"Mawar\", \"Merah\", 25000)\n",
        "\n",
        "    bunga2 = Bunga()\n",
        "    bunga2.set_bunga(\"Tulip\", \"Kuning\", 30000)\n",
        "\n",
        "    # Menampilkan informasi bunga\n",
        "    bunga1.tampilkan_info()\n",
        "    bunga2.tampilkan_info()\n",
        "\n",
        "if __name__ == \"__main__\":\n",
        "    main()\n"
      ],
      "metadata": {
        "colab": {
          "base_uri": "https://localhost:8080/"
        },
        "id": "ON4djjy2_oQt",
        "outputId": "3c2c83d2-bb3a-4e22-dc37-12543d242fe3"
      },
      "execution_count": 4,
      "outputs": [
        {
          "output_type": "stream",
          "name": "stdout",
          "text": [
            "\n",
            "Informasi Bunga:\n",
            "Nama  : Mawar\n",
            "Warna : Merah\n",
            "Harga : Rp25,000\n",
            "\n",
            "Informasi Bunga:\n",
            "Nama  : Tulip\n",
            "Warna : Kuning\n",
            "Harga : Rp30,000\n"
          ]
        }
      ]
    }
  ]
}