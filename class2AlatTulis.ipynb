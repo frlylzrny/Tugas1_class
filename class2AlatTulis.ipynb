{
  "nbformat": 4,
  "nbformat_minor": 0,
  "metadata": {
    "colab": {
      "provenance": [],
      "authorship_tag": "ABX9TyOnzdx31vWBZ/vwkwPIHTDQ",
      "include_colab_link": true
    },
    "kernelspec": {
      "name": "python3",
      "display_name": "Python 3"
    },
    "language_info": {
      "name": "python"
    }
  },
  "cells": [
    {
      "cell_type": "markdown",
      "metadata": {
        "id": "view-in-github",
        "colab_type": "text"
      },
      "source": [
        "<a href=\"https://colab.research.google.com/github/frlylzrny/Tugas1_class/blob/main/class2AlatTulis.ipynb\" target=\"_parent\"><img src=\"https://colab.research.google.com/assets/colab-badge.svg\" alt=\"Open In Colab\"/></a>"
      ]
    },
    {
      "cell_type": "code",
      "source": [
        "#mendefinisikan AlatTulis\n",
        "class AlatTulis:\n",
        "    def __init__(self):\n",
        "        self.nama = \"\"\n",
        "        self.merk = \"\"\n",
        "        self.harga = 0.0\n",
        "\n",
        "def main():\n",
        "    obj = AlatTulis()\n",
        "    obj.nama = \"Pensil\"\n",
        "    obj.merk = \"Faber-Castell\"\n",
        "    obj.harga = 5000\n",
        "\n",
        "    print(\"Informasi Alat Tulis:\")\n",
        "    print(f\"Nama  : {obj.nama}\")\n",
        "    print(f\"Merk  : {obj.merk}\")\n",
        "    print(f\"Harga : Rp{obj.harga:,}\")\n",
        "\n",
        "if __name__ == \"__main__\":\n",
        "    main()\n"
      ],
      "metadata": {
        "colab": {
          "base_uri": "https://localhost:8080/"
        },
        "id": "ON4djjy2_oQt",
        "outputId": "62e4e6ab-38b0-4fb5-80c6-669608f58b9d"
      },
      "execution_count": 2,
      "outputs": [
        {
          "output_type": "stream",
          "name": "stdout",
          "text": [
            "Informasi Alat Tulis:\n",
            "Nama  : Pensil\n",
            "Merk  : Faber-Castell\n",
            "Harga : Rp5,000\n"
          ]
        }
      ]
    }
  ]
}