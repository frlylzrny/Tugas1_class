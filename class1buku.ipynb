{
  "nbformat": 4,
  "nbformat_minor": 0,
  "metadata": {
    "colab": {
      "provenance": [],
      "authorship_tag": "ABX9TyMCjf2p1inwVdk239a0ifel",
      "include_colab_link": true
    },
    "kernelspec": {
      "name": "python3",
      "display_name": "Python 3"
    },
    "language_info": {
      "name": "python"
    }
  },
  "cells": [
    {
      "cell_type": "markdown",
      "metadata": {
        "id": "view-in-github",
        "colab_type": "text"
      },
      "source": [
        "<a href=\"https://colab.research.google.com/github/frlylzrny/Tugas1_class/blob/main/class1buku.ipynb\" target=\"_parent\"><img src=\"https://colab.research.google.com/assets/colab-badge.svg\" alt=\"Open In Colab\"/></a>"
      ]
    },
    {
      "cell_type": "code",
      "source": [
        "#mendefinisikan kelas buku\n",
        "class Buku:\n",
        "    def __init__(self):\n",
        "        self.judul = \"\"\n",
        "        self.pengarang = \"\"\n",
        "        self.halaman = 0\n",
        "\n",
        "def main():\n",
        "    obj = Buku()\n",
        "    obj.judul = \"Python untuk Pemula\"\n",
        "    obj.pengarang = \"John Doe\"\n",
        "    obj.halaman = 250\n",
        "\n",
        "    print(\"Informasi Buku:\")\n",
        "    print(f\"Judul      : {obj.judul}\")\n",
        "    print(f\"Pengarang  : {obj.pengarang}\")\n",
        "    print(f\"Jumlah Halaman: {obj.halaman}\")\n",
        "\n",
        "if __name__ == \"__main__\":\n",
        "    main()\n",
        "\n"
      ],
      "metadata": {
        "colab": {
          "base_uri": "https://localhost:8080/"
        },
        "id": "ON4djjy2_oQt",
        "outputId": "24e2bde6-d198-4bd8-9606-a60f17f9a80f"
      },
      "execution_count": 1,
      "outputs": [
        {
          "output_type": "stream",
          "name": "stdout",
          "text": [
            "Informasi Buku:\n",
            "Judul      : Python untuk Pemula\n",
            "Pengarang  : John Doe\n",
            "Jumlah Halaman: 250\n"
          ]
        }
      ]
    }
  ]
}