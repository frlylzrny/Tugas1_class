{
  "nbformat": 4,
  "nbformat_minor": 0,
  "metadata": {
    "colab": {
      "provenance": [],
      "authorship_tag": "ABX9TyM4aT5vuTCkWexOO+2AA+i8",
      "include_colab_link": true
    },
    "kernelspec": {
      "name": "python3",
      "display_name": "Python 3"
    },
    "language_info": {
      "name": "python"
    }
  },
  "cells": [
    {
      "cell_type": "markdown",
      "metadata": {
        "id": "view-in-github",
        "colab_type": "text"
      },
      "source": [
        "<a href=\"https://colab.research.google.com/github/frlylzrny/Tugas1_class/blob/main/class5makananringan.ipynb\" target=\"_parent\"><img src=\"https://colab.research.google.com/assets/colab-badge.svg\" alt=\"Open In Colab\"/></a>"
      ]
    },
    {
      "cell_type": "code",
      "source": [
        "# Kelas MakananRingan\n",
        "class MakananRingan:\n",
        "    def __init__(self, nama, rasa, harga, berat):\n",
        "        self.nama = nama\n",
        "        self.rasa = rasa\n",
        "        self.harga = harga\n",
        "        self.berat = berat\n",
        "\n",
        "    def info(self):\n",
        "        print(f\"{self.nama} ({self.rasa}, {self.berat}g) - Rp{self.harga}\")\n",
        "\n",
        "    def diskon(self, persen):\n",
        "        harga_diskon = self.harga - (self.harga * persen / 100)\n",
        "        print(f\"Harga setelah diskon {persen}%: Rp{int(harga_diskon)}\")\n",
        "\n",
        "def main():\n",
        "    obj = MakananRingan(\"Keripik Kentang\", \"Keju\", 12000, 150)\n",
        "    obj.info()\n",
        "    obj.diskon(20)\n",
        "\n",
        "if __name__ == \"__main__\":\n",
        "    main()\n"
      ],
      "metadata": {
        "colab": {
          "base_uri": "https://localhost:8080/"
        },
        "id": "ON4djjy2_oQt",
        "outputId": "230064ec-e308-45b9-fc75-9720c43d1616"
      },
      "execution_count": 8,
      "outputs": [
        {
          "output_type": "stream",
          "name": "stdout",
          "text": [
            "Keripik Kentang (Keju, 150g) - Rp12000\n",
            "Harga setelah diskon 20%: Rp9600\n"
          ]
        }
      ]
    }
  ]
}