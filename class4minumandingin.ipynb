{
  "nbformat": 4,
  "nbformat_minor": 0,
  "metadata": {
    "colab": {
      "provenance": [],
      "authorship_tag": "ABX9TyMaxHe5ZAxZJfjpjMIcn7S1",
      "include_colab_link": true
    },
    "kernelspec": {
      "name": "python3",
      "display_name": "Python 3"
    },
    "language_info": {
      "name": "python"
    }
  },
  "cells": [
    {
      "cell_type": "markdown",
      "metadata": {
        "id": "view-in-github",
        "colab_type": "text"
      },
      "source": [
        "<a href=\"https://colab.research.google.com/github/frlylzrny/Tugas1_class/blob/main/class4minumandingin.ipynb\" target=\"_parent\"><img src=\"https://colab.research.google.com/assets/colab-badge.svg\" alt=\"Open In Colab\"/></a>"
      ]
    },
    {
      "cell_type": "code",
      "source": [
        "#Kelas MinumanDingin\n",
        "class MinumanDingin:\n",
        "    def __init__(self, nama, rasa, harga, ukuran):\n",
        "        self.nama = nama\n",
        "        self.rasa = rasa\n",
        "        self.harga = harga\n",
        "        self.ukuran = ukuran\n",
        "\n",
        "    def info(self):\n",
        "        print(f\"{self.nama} ({self.rasa}, {self.ukuran}) - Rp{self.harga}\")\n",
        "\n",
        "    def diskon(self, persen):\n",
        "        harga_diskon = self.harga - (self.harga * persen / 100)\n",
        "        print(f\"Harga setelah diskon {persen}%: Rp{int(harga_diskon)}\")\n",
        "\n",
        "def main():\n",
        "    obj = MinumanDingin(\"Es Teh\", \"Manis\", 8000, \"Besar\")\n",
        "    obj.info()\n",
        "    obj.diskon(15)\n",
        "\n",
        "if __name__ == \"__main__\":\n",
        "    main()\n"
      ],
      "metadata": {
        "colab": {
          "base_uri": "https://localhost:8080/"
        },
        "id": "ON4djjy2_oQt",
        "outputId": "925be7b5-2d45-49b8-d6ed-c9fff72b4196"
      },
      "execution_count": 6,
      "outputs": [
        {
          "output_type": "stream",
          "name": "stdout",
          "text": [
            "Es Teh (Manis, Besar) - Rp8000\n",
            "Harga setelah diskon 15%: Rp6800\n"
          ]
        }
      ]
    }
  ]
}